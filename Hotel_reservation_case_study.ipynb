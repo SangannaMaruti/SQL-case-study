{
 "cells": [
  {
   "cell_type": "code",
   "execution_count": 11,
   "id": "d834c0a1",
   "metadata": {},
   "outputs": [],
   "source": [
    "import pandas as pd\n",
    "from sqlalchemy import create_engine"
   ]
  },
  {
   "cell_type": "code",
   "execution_count": 12,
   "id": "0bceda06",
   "metadata": {},
   "outputs": [
    {
     "name": "stdout",
     "output_type": "stream",
     "text": [
      "Requirement already satisfied: pymysql in c:\\users\\lenovo\\anaconda3\\lib\\site-packages (1.1.0)\n",
      "Data loaded successfully into MySQL database.\n"
     ]
    },
    {
     "name": "stderr",
     "output_type": "stream",
     "text": [
      "C:\\Users\\Lenovo\\AppData\\Local\\Temp\\ipykernel_17648\\3587929617.py:24: UserWarning: The provided table name 'Hotel_Reservations' is not found exactly as such in the database after writing the table, possibly due to case sensitivity issues. Consider using lower case table names.\n",
      "  df.to_sql(table_name, engine, if_exists='append', index=False)\n"
     ]
    }
   ],
   "source": [
    "# Read your data into a DataFrame (example CSV file)\n",
    "#df = pd.read_csv('C:\\Users\\Lenovo\\Downloads\\Dataset\\artist.csv')\n",
    "df = pd.read_csv('Downloads/Hotel Reservations.csv')\n",
    "\n",
    "# Define your MySQL database connection parameters\n",
    "username = 'root'\n",
    "password =  2024\n",
    "hostname = 'localhost'\n",
    "database_name = 'sys'\n",
    "\n",
    "# Create a connection string\n",
    "#connection_string = f{'mysql+pymysql://{'root'}:{2024}@{'localhost'}/{'sys'}'}\n",
    "!pip install pymysql\n",
    "connection_string = 'mysql+pymysql://{}:{}@{}/{}'.format('root',2024,'localhost','sys')\n",
    "\n",
    "# Create an SQLAlchemy engine\n",
    "engine = create_engine(connection_string)\n",
    "\n",
    "# Specify the name of the table you want to insert the data into\n",
    "#table_name = Hotel_Reservations\n",
    "table_name = 'Hotel_Reservations'\n",
    "\n",
    "# Insert the data into the MySQL database\n",
    "df.to_sql(table_name, engine, if_exists='append', index=False)\n",
    "\n",
    "engine.dispose()\n",
    "\n",
    "print(\"Data loaded successfully into MySQL database.\")"
   ]
  },
  {
   "cell_type": "code",
   "execution_count": 13,
   "id": "c03c040f",
   "metadata": {},
   "outputs": [
    {
     "name": "stdout",
     "output_type": "stream",
     "text": [
      "<bound method DataFrame.info of       Booking_ID  no_of_adults  no_of_children  no_of_weekend_nights  \\\n",
      "0       INN00001             2               0                     1   \n",
      "1       INN00002             2               0                     2   \n",
      "2       INN00003             1               0                     2   \n",
      "3       INN00004             2               0                     0   \n",
      "4       INN00005             2               0                     1   \n",
      "...          ...           ...             ...                   ...   \n",
      "36270   INN36271             3               0                     2   \n",
      "36271   INN36272             2               0                     1   \n",
      "36272   INN36273             2               0                     2   \n",
      "36273   INN36274             2               0                     0   \n",
      "36274   INN36275             2               0                     1   \n",
      "\n",
      "       no_of_week_nights type_of_meal_plan  required_car_parking_space  \\\n",
      "0                      2       Meal Plan 1                           0   \n",
      "1                      3      Not Selected                           0   \n",
      "2                      1       Meal Plan 1                           0   \n",
      "3                      2       Meal Plan 1                           0   \n",
      "4                      1      Not Selected                           0   \n",
      "...                  ...               ...                         ...   \n",
      "36270                  6       Meal Plan 1                           0   \n",
      "36271                  3       Meal Plan 1                           0   \n",
      "36272                  6       Meal Plan 1                           0   \n",
      "36273                  3      Not Selected                           0   \n",
      "36274                  2       Meal Plan 1                           0   \n",
      "\n",
      "      room_type_reserved  lead_time  arrival_year  arrival_month  \\\n",
      "0            Room_Type 1        224          2017             10   \n",
      "1            Room_Type 1          5          2018             11   \n",
      "2            Room_Type 1          1          2018              2   \n",
      "3            Room_Type 1        211          2018              5   \n",
      "4            Room_Type 1         48          2018              4   \n",
      "...                  ...        ...           ...            ...   \n",
      "36270        Room_Type 4         85          2018              8   \n",
      "36271        Room_Type 1        228          2018             10   \n",
      "36272        Room_Type 1        148          2018              7   \n",
      "36273        Room_Type 1         63          2018              4   \n",
      "36274        Room_Type 1        207          2018             12   \n",
      "\n",
      "       arrival_date market_segment_type  repeated_guest  \\\n",
      "0                 2             Offline               0   \n",
      "1                 6              Online               0   \n",
      "2                28              Online               0   \n",
      "3                20              Online               0   \n",
      "4                11              Online               0   \n",
      "...             ...                 ...             ...   \n",
      "36270             3              Online               0   \n",
      "36271            17              Online               0   \n",
      "36272             1              Online               0   \n",
      "36273            21              Online               0   \n",
      "36274            30             Offline               0   \n",
      "\n",
      "       no_of_previous_cancellations  no_of_previous_bookings_not_canceled  \\\n",
      "0                                 0                                     0   \n",
      "1                                 0                                     0   \n",
      "2                                 0                                     0   \n",
      "3                                 0                                     0   \n",
      "4                                 0                                     0   \n",
      "...                             ...                                   ...   \n",
      "36270                             0                                     0   \n",
      "36271                             0                                     0   \n",
      "36272                             0                                     0   \n",
      "36273                             0                                     0   \n",
      "36274                             0                                     0   \n",
      "\n",
      "       avg_price_per_room  no_of_special_requests booking_status  \n",
      "0                   65.00                       0   Not_Canceled  \n",
      "1                  106.68                       1   Not_Canceled  \n",
      "2                   60.00                       0       Canceled  \n",
      "3                  100.00                       0       Canceled  \n",
      "4                   94.50                       0       Canceled  \n",
      "...                   ...                     ...            ...  \n",
      "36270              167.80                       1   Not_Canceled  \n",
      "36271               90.95                       2       Canceled  \n",
      "36272               98.39                       2   Not_Canceled  \n",
      "36273               94.50                       0       Canceled  \n",
      "36274              161.67                       0   Not_Canceled  \n",
      "\n",
      "[36275 rows x 19 columns]>\n"
     ]
    }
   ],
   "source": [
    "print(df.info)"
   ]
  },
  {
   "cell_type": "code",
   "execution_count": null,
   "id": "86d07351",
   "metadata": {},
   "outputs": [],
   "source": []
  }
 ],
 "metadata": {
  "kernelspec": {
   "display_name": "Python 3 (ipykernel)",
   "language": "python",
   "name": "python3"
  },
  "language_info": {
   "codemirror_mode": {
    "name": "ipython",
    "version": 3
   },
   "file_extension": ".py",
   "mimetype": "text/x-python",
   "name": "python",
   "nbconvert_exporter": "python",
   "pygments_lexer": "ipython3",
   "version": "3.11.5"
  }
 },
 "nbformat": 4,
 "nbformat_minor": 5
}
