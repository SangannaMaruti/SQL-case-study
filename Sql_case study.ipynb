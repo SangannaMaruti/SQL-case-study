{
 "cells": [
  {
   "cell_type": "code",
   "execution_count": 13,
   "id": "1ffcc7be",
   "metadata": {},
   "outputs": [
    {
     "name": "stdout",
     "output_type": "stream",
     "text": [
      "Requirement already satisfied: pymysql in c:\\users\\lenovo\\anaconda3\\lib\\site-packages (1.1.0)\n",
      "Data loaded successfully into MySQL database.\n"
     ]
    }
   ],
   "source": [
    "import pandas as pd\n",
    "from sqlalchemy import create_engine\n",
    "\n",
    "# Read your data into a DataFrame (example CSV file)\n",
    "#df = pd.read_csv('C:\\Users\\Lenovo\\Downloads\\Dataset\\artist.csv')\n",
    "df1 = pd.read_csv('Downloads/canvas_size.csv')\n",
    "df2 = pd.read_csv('Downloads/image_link.csv')\n",
    "df3 = pd.read_csv('Downloads/museum.csv')\n",
    "df4 = pd.read_csv('Downloads/museum_hours.csv')\n",
    "df5 = pd.read_csv('Downloads/product_size.csv')\n",
    "df6 = pd.read_csv('Downloads/subject.csv')\n",
    "df7 = pd.read_csv('Downloads/work.csv')\n",
    "\n",
    "# Define your MySQL database connection parameters\n",
    "username = 'root'\n",
    "password =  2024\n",
    "hostname = 'localhost'\n",
    "database_name = 'sys'\n",
    "\n",
    "# Create a connection string\n",
    "#connection_string = f{'mysql+pymysql://{'root'}:{2024}@{'localhost'}/{'sys'}'}\n",
    "!pip install pymysql\n",
    "connection_string = 'mysql+pymysql://{}:{}@{}/{}'.format('root',2024,'localhost','sys')\n",
    "\n",
    "# Create an SQLAlchemy engine\n",
    "engine = create_engine(connection_string)\n",
    "\n",
    "# Specify the name of the table you want to insert the data into\n",
    "#table_name = 'artist' #,'canvas_size','image_link','museum','museum_hours','product_size','subject','work']\n",
    "table_name1 = 'canvas_size'\n",
    "table_name2 = 'image_link'\n",
    "table_name3 = 'museum'\n",
    "table_name4 = 'museum_hours'\n",
    "table_name5 = 'product_size'\n",
    "table_name6 = 'subject'\n",
    "table_name7 = 'work'\n",
    "# Insert the data into the MySQL database\n",
    "df1.to_sql(table_name1, engine, if_exists='append', index=False)\n",
    "df2.to_sql(table_name2, engine, if_exists='append', index=False)\n",
    "df3.to_sql(table_name3, engine, if_exists='append', index=False)\n",
    "df4.to_sql(table_name4, engine, if_exists='append', index=False)\n",
    "df5.to_sql(table_name5, engine, if_exists='append', index=False)\n",
    "df6.to_sql(table_name6, engine, if_exists='append', index=False)\n",
    "df7.to_sql(table_name7, engine, if_exists='append', index=False)\n",
    "\n",
    "# Close the connection\n",
    "engine.dispose()\n",
    "\n",
    "print(\"Data loaded successfully into MySQL database.\")\n"
   ]
  },
  {
   "cell_type": "code",
   "execution_count": 14,
   "id": "3a29dbb5",
   "metadata": {},
   "outputs": [
    {
     "name": "stdout",
     "output_type": "stream",
     "text": [
      "<bound method DataFrame.info of      size_id  width  height                       label\n",
      "0         20     20     NaN               20\" Long Edge\n",
      "1         24     24     NaN               24\" Long Edge\n",
      "2         30     30     NaN               30\" Long Edge\n",
      "3         36     36     NaN               36\" Long Edge\n",
      "4         40     40     NaN               40\" Long Edge\n",
      "..       ...    ...     ...                         ...\n",
      "195     7963     79    63.0  79\" x 63\"(201 cm x 160 cm)\n",
      "196     8040     80    40.0  80\" x 40\"(203 cm x 102 cm)\n",
      "197     8051     80    51.0  80\" x 51\"(203 cm x 130 cm)\n",
      "198     8959     89    59.0  89\" x 59\"(226 cm x 150 cm)\n",
      "199     9648     96    48.0  96\" x 48\"(244 cm x 122 cm)\n",
      "\n",
      "[200 rows x 4 columns]>\n"
     ]
    }
   ],
   "source": [
    "print(df1.info)"
   ]
  },
  {
   "cell_type": "code",
   "execution_count": null,
   "id": "da90da67",
   "metadata": {},
   "outputs": [],
   "source": []
  }
 ],
 "metadata": {
  "kernelspec": {
   "display_name": "Python 3 (ipykernel)",
   "language": "python",
   "name": "python3"
  },
  "language_info": {
   "codemirror_mode": {
    "name": "ipython",
    "version": 3
   },
   "file_extension": ".py",
   "mimetype": "text/x-python",
   "name": "python",
   "nbconvert_exporter": "python",
   "pygments_lexer": "ipython3",
   "version": "3.11.5"
  }
 },
 "nbformat": 4,
 "nbformat_minor": 5
}
